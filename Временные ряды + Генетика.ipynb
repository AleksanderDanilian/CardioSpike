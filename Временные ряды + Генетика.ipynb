{
  "nbformat": 4,
  "nbformat_minor": 0,
  "metadata": {
    "colab": {
      "name": "CardioSpikes. GA-TS",
      "provenance": [],
      "collapsed_sections": [],
      "machine_shape": "hm"
    },
    "kernelspec": {
      "display_name": "Python 3",
      "language": "python",
      "name": "python3"
    },
    "language_info": {
      "codemirror_mode": {
        "name": "ipython",
        "version": 3
      },
      "file_extension": ".py",
      "mimetype": "text/x-python",
      "name": "python",
      "nbconvert_exporter": "python",
      "pygments_lexer": "ipython3",
      "version": "3.8.2"
    },
    "accelerator": "GPU"
  },
  "cells": [
    {
      "cell_type": "markdown",
      "metadata": {
        "id": "6ImXjgHd0jc4"
      },
      "source": [
        "## Предсказание ковидных спайков\n",
        "\n",
        "\n",
        "Данные обрабатываются как временной ряд, т.е. на основании нескольких значений предсказывается следующее.\n",
        "\n",
        "Используется длинна последовательности = 8."
      ]
    },
    {
      "cell_type": "code",
      "metadata": {
        "id": "OOweilL20R7n"
      },
      "source": [
        "#Загружаем библиотеки\n",
        "import numpy as np\n",
        "import pandas as pd \n",
        "\n",
        "#Оптимизатор\n",
        "from tensorflow.keras.optimizers import Adam, SGD\n",
        "# Модели\n",
        "from tensorflow.keras.models import Sequential, Model \n",
        "# Чтобы сохранять модель\n",
        "from tensorflow.keras.models import load_model, save_model\n",
        "# Стандартные слои\n",
        "from tensorflow.keras.layers import concatenate, Input, Dense, Dropout, BatchNormalization, Flatten, Conv1D, Conv2D, LSTM \n",
        "from tensorflow.keras.layers import Reshape, Conv2DTranspose, Lambda, MaxPooling1D, Activation, GlobalMaxPooling1D, UpSampling1D\n",
        "# Нормирование\n",
        "from sklearn.preprocessing import StandardScaler, MinMaxScaler \n",
        "# Чтобы сохранять стандарт скейлер\n",
        "from joblib import dump, load\n",
        "\n",
        "from tensorflow.keras import utils #отсюда to_categorical\n",
        "from tensorflow.keras.preprocessing.sequence import TimeseriesGenerator #генерация выборки временных рядов\n",
        "from tensorflow.keras.utils import plot_model \n",
        "\n",
        "import keras.backend as K    \n",
        "from keras.losses import MAE \n",
        "\n",
        "import time\n",
        "import random as random\n",
        "from google.colab import files\n",
        "\n",
        "\n",
        "#Отрисовка графиков\n",
        "import matplotlib.pyplot as plt \n",
        "%matplotlib inline"
      ],
      "execution_count": null,
      "outputs": []
    },
    {
      "cell_type": "code",
      "metadata": {
        "colab": {
          "base_uri": "https://localhost:8080/"
        },
        "id": "2mEhYrdA1ENB",
        "outputId": "44179a5a-eb3f-4014-bc47-02e20d3c27bb"
      },
      "source": [
        "#подключаем диск \n",
        "from google.colab import drive\n",
        "drive.mount('/content/drive')\n",
        "\n",
        "PATH = '/content/drive/MyDrive/my_data/CardioSpike/'\n",
        "!ls {PATH}"
      ],
      "execution_count": null,
      "outputs": [
        {
          "output_type": "stream",
          "text": [
            "Drive already mounted at /content/drive; to attempt to forcibly remount, call drive.mount(\"/content/drive\", force_remount=True).\n",
            "'AK&VGG16'\t\t test.csv\t       true_values.npy\n",
            " Checkpoint.hdf5\t'Time series N->N+1'\n",
            " sample_submission.csv\t train.csv\n"
          ],
          "name": "stdout"
        }
      ]
    },
    {
      "cell_type": "code",
      "metadata": {
        "id": "0kIOdJgRYUOy"
      },
      "source": [
        "# Загружаем данные\n",
        "base_data = pd.read_csv(PATH + 'train.csv', sep=',')"
      ],
      "execution_count": null,
      "outputs": []
    },
    {
      "cell_type": "code",
      "metadata": {
        "colab": {
          "base_uri": "https://localhost:8080/",
          "height": 419
        },
        "id": "Vmc4Tc2QYYm1",
        "outputId": "ab2d0df0-edd5-4071-9b1b-437a20534ad0"
      },
      "source": [
        "base_data"
      ],
      "execution_count": null,
      "outputs": [
        {
          "output_type": "execute_result",
          "data": {
            "text/html": [
              "<div>\n",
              "<style scoped>\n",
              "    .dataframe tbody tr th:only-of-type {\n",
              "        vertical-align: middle;\n",
              "    }\n",
              "\n",
              "    .dataframe tbody tr th {\n",
              "        vertical-align: top;\n",
              "    }\n",
              "\n",
              "    .dataframe thead th {\n",
              "        text-align: right;\n",
              "    }\n",
              "</style>\n",
              "<table border=\"1\" class=\"dataframe\">\n",
              "  <thead>\n",
              "    <tr style=\"text-align: right;\">\n",
              "      <th></th>\n",
              "      <th>id</th>\n",
              "      <th>time</th>\n",
              "      <th>x</th>\n",
              "      <th>y</th>\n",
              "    </tr>\n",
              "  </thead>\n",
              "  <tbody>\n",
              "    <tr>\n",
              "      <th>0</th>\n",
              "      <td>1</td>\n",
              "      <td>0</td>\n",
              "      <td>800</td>\n",
              "      <td>0</td>\n",
              "    </tr>\n",
              "    <tr>\n",
              "      <th>1</th>\n",
              "      <td>1</td>\n",
              "      <td>780</td>\n",
              "      <td>780</td>\n",
              "      <td>0</td>\n",
              "    </tr>\n",
              "    <tr>\n",
              "      <th>2</th>\n",
              "      <td>1</td>\n",
              "      <td>1572</td>\n",
              "      <td>792</td>\n",
              "      <td>0</td>\n",
              "    </tr>\n",
              "    <tr>\n",
              "      <th>3</th>\n",
              "      <td>1</td>\n",
              "      <td>2392</td>\n",
              "      <td>820</td>\n",
              "      <td>0</td>\n",
              "    </tr>\n",
              "    <tr>\n",
              "      <th>4</th>\n",
              "      <td>1</td>\n",
              "      <td>3196</td>\n",
              "      <td>804</td>\n",
              "      <td>0</td>\n",
              "    </tr>\n",
              "    <tr>\n",
              "      <th>...</th>\n",
              "      <td>...</td>\n",
              "      <td>...</td>\n",
              "      <td>...</td>\n",
              "      <td>...</td>\n",
              "    </tr>\n",
              "    <tr>\n",
              "      <th>60482</th>\n",
              "      <td>275</td>\n",
              "      <td>115360</td>\n",
              "      <td>552</td>\n",
              "      <td>0</td>\n",
              "    </tr>\n",
              "    <tr>\n",
              "      <th>60483</th>\n",
              "      <td>275</td>\n",
              "      <td>115912</td>\n",
              "      <td>552</td>\n",
              "      <td>0</td>\n",
              "    </tr>\n",
              "    <tr>\n",
              "      <th>60484</th>\n",
              "      <td>275</td>\n",
              "      <td>116464</td>\n",
              "      <td>552</td>\n",
              "      <td>0</td>\n",
              "    </tr>\n",
              "    <tr>\n",
              "      <th>60485</th>\n",
              "      <td>275</td>\n",
              "      <td>117020</td>\n",
              "      <td>556</td>\n",
              "      <td>0</td>\n",
              "    </tr>\n",
              "    <tr>\n",
              "      <th>60486</th>\n",
              "      <td>275</td>\n",
              "      <td>117572</td>\n",
              "      <td>552</td>\n",
              "      <td>0</td>\n",
              "    </tr>\n",
              "  </tbody>\n",
              "</table>\n",
              "<p>60487 rows × 4 columns</p>\n",
              "</div>"
            ],
            "text/plain": [
              "        id    time    x  y\n",
              "0        1       0  800  0\n",
              "1        1     780  780  0\n",
              "2        1    1572  792  0\n",
              "3        1    2392  820  0\n",
              "4        1    3196  804  0\n",
              "...    ...     ...  ... ..\n",
              "60482  275  115360  552  0\n",
              "60483  275  115912  552  0\n",
              "60484  275  116464  552  0\n",
              "60485  275  117020  556  0\n",
              "60486  275  117572  552  0\n",
              "\n",
              "[60487 rows x 4 columns]"
            ]
          },
          "metadata": {
            "tags": []
          },
          "execution_count": 141
        }
      ]
    },
    {
      "cell_type": "code",
      "metadata": {
        "id": "QrHWpYMPz8Tl"
      },
      "source": [
        "# обнаружили выбросы\n",
        "base_data[base_data['x']>5000]"
      ],
      "execution_count": null,
      "outputs": []
    },
    {
      "cell_type": "code",
      "metadata": {
        "id": "L7TQ3pf70IDe",
        "colab": {
          "base_uri": "https://localhost:8080/",
          "height": 49
        },
        "outputId": "829a53a7-b38b-4f22-f7f4-5e02080c193f"
      },
      "source": [
        "# удалим выбросы\n",
        "# base_data = base_data.loc[base_data['x'] < 5000]\n",
        "# base_data[base_data['x']>5000]"
      ],
      "execution_count": null,
      "outputs": [
        {
          "output_type": "execute_result",
          "data": {
            "text/html": [
              "<div>\n",
              "<style scoped>\n",
              "    .dataframe tbody tr th:only-of-type {\n",
              "        vertical-align: middle;\n",
              "    }\n",
              "\n",
              "    .dataframe tbody tr th {\n",
              "        vertical-align: top;\n",
              "    }\n",
              "\n",
              "    .dataframe thead th {\n",
              "        text-align: right;\n",
              "    }\n",
              "</style>\n",
              "<table border=\"1\" class=\"dataframe\">\n",
              "  <thead>\n",
              "    <tr style=\"text-align: right;\">\n",
              "      <th></th>\n",
              "      <th>id</th>\n",
              "      <th>time</th>\n",
              "      <th>x</th>\n",
              "      <th>y</th>\n",
              "    </tr>\n",
              "  </thead>\n",
              "  <tbody>\n",
              "  </tbody>\n",
              "</table>\n",
              "</div>"
            ],
            "text/plain": [
              "Empty DataFrame\n",
              "Columns: [id, time, x, y]\n",
              "Index: []"
            ]
          },
          "metadata": {
            "tags": []
          },
          "execution_count": 8
        }
      ]
    },
    {
      "cell_type": "code",
      "metadata": {
        "colab": {
          "base_uri": "https://localhost:8080/",
          "height": 204
        },
        "id": "Rx7JvAu77QfV",
        "outputId": "84330cc4-e612-4b57-c49c-4994c602d173"
      },
      "source": [
        "# данные для обучения\n",
        "# data = base_data.loc[:55000]\n",
        "data = base_data.copy()\n",
        "data.tail()"
      ],
      "execution_count": null,
      "outputs": [
        {
          "output_type": "execute_result",
          "data": {
            "text/html": [
              "<div>\n",
              "<style scoped>\n",
              "    .dataframe tbody tr th:only-of-type {\n",
              "        vertical-align: middle;\n",
              "    }\n",
              "\n",
              "    .dataframe tbody tr th {\n",
              "        vertical-align: top;\n",
              "    }\n",
              "\n",
              "    .dataframe thead th {\n",
              "        text-align: right;\n",
              "    }\n",
              "</style>\n",
              "<table border=\"1\" class=\"dataframe\">\n",
              "  <thead>\n",
              "    <tr style=\"text-align: right;\">\n",
              "      <th></th>\n",
              "      <th>id</th>\n",
              "      <th>time</th>\n",
              "      <th>x</th>\n",
              "      <th>y</th>\n",
              "    </tr>\n",
              "  </thead>\n",
              "  <tbody>\n",
              "    <tr>\n",
              "      <th>60482</th>\n",
              "      <td>275</td>\n",
              "      <td>115360</td>\n",
              "      <td>552</td>\n",
              "      <td>0</td>\n",
              "    </tr>\n",
              "    <tr>\n",
              "      <th>60483</th>\n",
              "      <td>275</td>\n",
              "      <td>115912</td>\n",
              "      <td>552</td>\n",
              "      <td>0</td>\n",
              "    </tr>\n",
              "    <tr>\n",
              "      <th>60484</th>\n",
              "      <td>275</td>\n",
              "      <td>116464</td>\n",
              "      <td>552</td>\n",
              "      <td>0</td>\n",
              "    </tr>\n",
              "    <tr>\n",
              "      <th>60485</th>\n",
              "      <td>275</td>\n",
              "      <td>117020</td>\n",
              "      <td>556</td>\n",
              "      <td>0</td>\n",
              "    </tr>\n",
              "    <tr>\n",
              "      <th>60486</th>\n",
              "      <td>275</td>\n",
              "      <td>117572</td>\n",
              "      <td>552</td>\n",
              "      <td>0</td>\n",
              "    </tr>\n",
              "  </tbody>\n",
              "</table>\n",
              "</div>"
            ],
            "text/plain": [
              "        id    time    x  y\n",
              "60482  275  115360  552  0\n",
              "60483  275  115912  552  0\n",
              "60484  275  116464  552  0\n",
              "60485  275  117020  556  0\n",
              "60486  275  117572  552  0"
            ]
          },
          "metadata": {
            "tags": []
          },
          "execution_count": 143
        }
      ]
    },
    {
      "cell_type": "markdown",
      "metadata": {
        "id": "IePeENC__fxz"
      },
      "source": [
        "**Работаем с переразмеченным Y**"
      ]
    },
    {
      "cell_type": "code",
      "metadata": {
        "colab": {
          "base_uri": "https://localhost:8080/",
          "height": 204
        },
        "id": "DeE3EMNBAdtQ",
        "outputId": "31fee3e1-6304-4f69-d454-4bfd0d920324"
      },
      "source": [
        "true_values = np.load(PATH + 'true_values.npy')\n",
        "data['y_new'] = true_values\n",
        "data.head()"
      ],
      "execution_count": null,
      "outputs": [
        {
          "output_type": "execute_result",
          "data": {
            "text/html": [
              "<div>\n",
              "<style scoped>\n",
              "    .dataframe tbody tr th:only-of-type {\n",
              "        vertical-align: middle;\n",
              "    }\n",
              "\n",
              "    .dataframe tbody tr th {\n",
              "        vertical-align: top;\n",
              "    }\n",
              "\n",
              "    .dataframe thead th {\n",
              "        text-align: right;\n",
              "    }\n",
              "</style>\n",
              "<table border=\"1\" class=\"dataframe\">\n",
              "  <thead>\n",
              "    <tr style=\"text-align: right;\">\n",
              "      <th></th>\n",
              "      <th>id</th>\n",
              "      <th>time</th>\n",
              "      <th>x</th>\n",
              "      <th>y</th>\n",
              "      <th>y_new</th>\n",
              "    </tr>\n",
              "  </thead>\n",
              "  <tbody>\n",
              "    <tr>\n",
              "      <th>0</th>\n",
              "      <td>1</td>\n",
              "      <td>0</td>\n",
              "      <td>800</td>\n",
              "      <td>0</td>\n",
              "      <td>0.0</td>\n",
              "    </tr>\n",
              "    <tr>\n",
              "      <th>1</th>\n",
              "      <td>1</td>\n",
              "      <td>780</td>\n",
              "      <td>780</td>\n",
              "      <td>0</td>\n",
              "      <td>0.0</td>\n",
              "    </tr>\n",
              "    <tr>\n",
              "      <th>2</th>\n",
              "      <td>1</td>\n",
              "      <td>1572</td>\n",
              "      <td>792</td>\n",
              "      <td>0</td>\n",
              "      <td>0.0</td>\n",
              "    </tr>\n",
              "    <tr>\n",
              "      <th>3</th>\n",
              "      <td>1</td>\n",
              "      <td>2392</td>\n",
              "      <td>820</td>\n",
              "      <td>0</td>\n",
              "      <td>0.0</td>\n",
              "    </tr>\n",
              "    <tr>\n",
              "      <th>4</th>\n",
              "      <td>1</td>\n",
              "      <td>3196</td>\n",
              "      <td>804</td>\n",
              "      <td>0</td>\n",
              "      <td>0.0</td>\n",
              "    </tr>\n",
              "  </tbody>\n",
              "</table>\n",
              "</div>"
            ],
            "text/plain": [
              "   id  time    x  y  y_new\n",
              "0   1     0  800  0    0.0\n",
              "1   1   780  780  0    0.0\n",
              "2   1  1572  792  0    0.0\n",
              "3   1  2392  820  0    0.0\n",
              "4   1  3196  804  0    0.0"
            ]
          },
          "metadata": {
            "tags": []
          },
          "execution_count": 144
        }
      ]
    },
    {
      "cell_type": "code",
      "metadata": {
        "id": "oyTIO3Ug9zgB"
      },
      "source": [
        "# Готовим данные\n",
        "\n",
        "# скопируем столбец x со сдвигом\n",
        "data['x(i-1)'] =  data['x'].shift(1)\n",
        "data['x(i-2)'] =  data['x'].shift(2)\n",
        "data['x(i+1)'] =  data['x'].shift(-1)\n",
        "\n",
        "data['dx1'] =  data['x(i-1)'] - data['x(i-2)']\n",
        "data['dx2'] =  data['x'] - data['x(i-1)'] \n",
        "data['dx3'] =  data['x(i+1)'] - data['x']\n",
        "\n",
        "# скопируем time\n",
        "data['time(i-1)'] =  data['time'].shift(1)\n",
        "data['time(i-2)'] =  data['time'].shift(2)\n",
        "data['time(i+1)'] =  data['time'].shift(-1)\n",
        "\n",
        "data['dt1'] =  data['time(i-1)'] - data['time(i-2)']\n",
        "data['dt2'] =  data['time'] - data['time(i-1)'] \n",
        "data['dt3'] =  data['time(i+1)'] - data['time']\n",
        "\n",
        "# удаляем ненужные толбцы\n",
        "del data['id']\n",
        "del data['time']\n",
        "del data['x']\n",
        "\n",
        "del data['x(i-1)']  \n",
        "del data['x(i-2)']  \n",
        "del data['x(i+1)']\n",
        "\n",
        "del data['time(i-1)']  \n",
        "del data['time(i-2)']\n",
        "del data['time(i+1)']\n"
      ],
      "execution_count": null,
      "outputs": []
    },
    {
      "cell_type": "code",
      "metadata": {
        "colab": {
          "base_uri": "https://localhost:8080/",
          "height": 204
        },
        "id": "3_5jhkITCBVQ",
        "outputId": "295db62a-9937-440a-efca-43fc3d31cfdf"
      },
      "source": [
        "data.head()"
      ],
      "execution_count": null,
      "outputs": [
        {
          "output_type": "execute_result",
          "data": {
            "text/html": [
              "<div>\n",
              "<style scoped>\n",
              "    .dataframe tbody tr th:only-of-type {\n",
              "        vertical-align: middle;\n",
              "    }\n",
              "\n",
              "    .dataframe tbody tr th {\n",
              "        vertical-align: top;\n",
              "    }\n",
              "\n",
              "    .dataframe thead th {\n",
              "        text-align: right;\n",
              "    }\n",
              "</style>\n",
              "<table border=\"1\" class=\"dataframe\">\n",
              "  <thead>\n",
              "    <tr style=\"text-align: right;\">\n",
              "      <th></th>\n",
              "      <th>y</th>\n",
              "      <th>y_new</th>\n",
              "      <th>dx1</th>\n",
              "      <th>dx2</th>\n",
              "      <th>dx3</th>\n",
              "      <th>dt1</th>\n",
              "      <th>dt2</th>\n",
              "      <th>dt3</th>\n",
              "    </tr>\n",
              "  </thead>\n",
              "  <tbody>\n",
              "    <tr>\n",
              "      <th>0</th>\n",
              "      <td>0</td>\n",
              "      <td>0.0</td>\n",
              "      <td>NaN</td>\n",
              "      <td>NaN</td>\n",
              "      <td>-20.0</td>\n",
              "      <td>NaN</td>\n",
              "      <td>NaN</td>\n",
              "      <td>780.0</td>\n",
              "    </tr>\n",
              "    <tr>\n",
              "      <th>1</th>\n",
              "      <td>0</td>\n",
              "      <td>0.0</td>\n",
              "      <td>NaN</td>\n",
              "      <td>-20.0</td>\n",
              "      <td>12.0</td>\n",
              "      <td>NaN</td>\n",
              "      <td>780.0</td>\n",
              "      <td>792.0</td>\n",
              "    </tr>\n",
              "    <tr>\n",
              "      <th>2</th>\n",
              "      <td>0</td>\n",
              "      <td>0.0</td>\n",
              "      <td>-20.0</td>\n",
              "      <td>12.0</td>\n",
              "      <td>28.0</td>\n",
              "      <td>780.0</td>\n",
              "      <td>792.0</td>\n",
              "      <td>820.0</td>\n",
              "    </tr>\n",
              "    <tr>\n",
              "      <th>3</th>\n",
              "      <td>0</td>\n",
              "      <td>0.0</td>\n",
              "      <td>12.0</td>\n",
              "      <td>28.0</td>\n",
              "      <td>-16.0</td>\n",
              "      <td>792.0</td>\n",
              "      <td>820.0</td>\n",
              "      <td>804.0</td>\n",
              "    </tr>\n",
              "    <tr>\n",
              "      <th>4</th>\n",
              "      <td>0</td>\n",
              "      <td>0.0</td>\n",
              "      <td>28.0</td>\n",
              "      <td>-16.0</td>\n",
              "      <td>24.0</td>\n",
              "      <td>820.0</td>\n",
              "      <td>804.0</td>\n",
              "      <td>828.0</td>\n",
              "    </tr>\n",
              "  </tbody>\n",
              "</table>\n",
              "</div>"
            ],
            "text/plain": [
              "   y  y_new   dx1   dx2   dx3    dt1    dt2    dt3\n",
              "0  0    0.0   NaN   NaN -20.0    NaN    NaN  780.0\n",
              "1  0    0.0   NaN -20.0  12.0    NaN  780.0  792.0\n",
              "2  0    0.0 -20.0  12.0  28.0  780.0  792.0  820.0\n",
              "3  0    0.0  12.0  28.0 -16.0  792.0  820.0  804.0\n",
              "4  0    0.0  28.0 -16.0  24.0  820.0  804.0  828.0"
            ]
          },
          "metadata": {
            "tags": []
          },
          "execution_count": 146
        }
      ]
    },
    {
      "cell_type": "code",
      "metadata": {
        "id": "DFJih-Fr_YAv"
      },
      "source": [
        "# пересчитываем X к диапазону 0:1 по каждому ID\n",
        "# for i in  range(data['id'].max()):\n",
        "#   if data.loc[data['id']==i,'x'].count() > 0:\n",
        "#     wide = data.loc[data['id']==i,'x'].max() - data.loc[data['id']==i,'x'].min()\n",
        "#     data.loc[data['id']==i,'x'] -=  data.loc[data['id']==i,'x'].min()\n",
        "#     data.loc[data['id']==i,'x'] /= wide\n",
        "    # print(i, data.loc[data['id']==i,'x'].max(), data.loc[data['id']==i,'x'].min(), wide)"
      ],
      "execution_count": null,
      "outputs": []
    },
    {
      "cell_type": "code",
      "metadata": {
        "id": "Wemol6nfCEfG"
      },
      "source": [
        "#Выкинем пару строк где в результате сдвига появились NaN\n",
        "data.dropna(inplace= True)\n",
        "data.isna().sum()"
      ],
      "execution_count": null,
      "outputs": []
    },
    {
      "cell_type": "code",
      "metadata": {
        "colab": {
          "base_uri": "https://localhost:8080/",
          "height": 204
        },
        "id": "piL9X-KiCOJG",
        "outputId": "bf34738e-c0da-47e8-ed02-5715fda4d748"
      },
      "source": [
        "data.head()"
      ],
      "execution_count": null,
      "outputs": [
        {
          "output_type": "execute_result",
          "data": {
            "text/html": [
              "<div>\n",
              "<style scoped>\n",
              "    .dataframe tbody tr th:only-of-type {\n",
              "        vertical-align: middle;\n",
              "    }\n",
              "\n",
              "    .dataframe tbody tr th {\n",
              "        vertical-align: top;\n",
              "    }\n",
              "\n",
              "    .dataframe thead th {\n",
              "        text-align: right;\n",
              "    }\n",
              "</style>\n",
              "<table border=\"1\" class=\"dataframe\">\n",
              "  <thead>\n",
              "    <tr style=\"text-align: right;\">\n",
              "      <th></th>\n",
              "      <th>y</th>\n",
              "      <th>y_new</th>\n",
              "      <th>dx1</th>\n",
              "      <th>dx2</th>\n",
              "      <th>dx3</th>\n",
              "      <th>dt1</th>\n",
              "      <th>dt2</th>\n",
              "      <th>dt3</th>\n",
              "    </tr>\n",
              "  </thead>\n",
              "  <tbody>\n",
              "    <tr>\n",
              "      <th>2</th>\n",
              "      <td>0</td>\n",
              "      <td>0.0</td>\n",
              "      <td>-20.0</td>\n",
              "      <td>12.0</td>\n",
              "      <td>28.0</td>\n",
              "      <td>780.0</td>\n",
              "      <td>792.0</td>\n",
              "      <td>820.0</td>\n",
              "    </tr>\n",
              "    <tr>\n",
              "      <th>3</th>\n",
              "      <td>0</td>\n",
              "      <td>0.0</td>\n",
              "      <td>12.0</td>\n",
              "      <td>28.0</td>\n",
              "      <td>-16.0</td>\n",
              "      <td>792.0</td>\n",
              "      <td>820.0</td>\n",
              "      <td>804.0</td>\n",
              "    </tr>\n",
              "    <tr>\n",
              "      <th>4</th>\n",
              "      <td>0</td>\n",
              "      <td>0.0</td>\n",
              "      <td>28.0</td>\n",
              "      <td>-16.0</td>\n",
              "      <td>24.0</td>\n",
              "      <td>820.0</td>\n",
              "      <td>804.0</td>\n",
              "      <td>828.0</td>\n",
              "    </tr>\n",
              "    <tr>\n",
              "      <th>5</th>\n",
              "      <td>0</td>\n",
              "      <td>0.0</td>\n",
              "      <td>-16.0</td>\n",
              "      <td>24.0</td>\n",
              "      <td>88.0</td>\n",
              "      <td>804.0</td>\n",
              "      <td>828.0</td>\n",
              "      <td>916.0</td>\n",
              "    </tr>\n",
              "    <tr>\n",
              "      <th>6</th>\n",
              "      <td>0</td>\n",
              "      <td>0.0</td>\n",
              "      <td>24.0</td>\n",
              "      <td>88.0</td>\n",
              "      <td>44.0</td>\n",
              "      <td>828.0</td>\n",
              "      <td>916.0</td>\n",
              "      <td>960.0</td>\n",
              "    </tr>\n",
              "  </tbody>\n",
              "</table>\n",
              "</div>"
            ],
            "text/plain": [
              "   y  y_new   dx1   dx2   dx3    dt1    dt2    dt3\n",
              "2  0    0.0 -20.0  12.0  28.0  780.0  792.0  820.0\n",
              "3  0    0.0  12.0  28.0 -16.0  792.0  820.0  804.0\n",
              "4  0    0.0  28.0 -16.0  24.0  820.0  804.0  828.0\n",
              "5  0    0.0 -16.0  24.0  88.0  804.0  828.0  916.0\n",
              "6  0    0.0  24.0  88.0  44.0  828.0  916.0  960.0"
            ]
          },
          "metadata": {
            "tags": []
          },
          "execution_count": 148
        }
      ]
    },
    {
      "cell_type": "code",
      "metadata": {
        "colab": {
          "base_uri": "https://localhost:8080/"
        },
        "id": "NdrGCCD3CWhi",
        "outputId": "a9ed0fc1-8da2-496e-edd7-2eed01c65a6b"
      },
      "source": [
        "print(data.shape)"
      ],
      "execution_count": null,
      "outputs": [
        {
          "output_type": "stream",
          "text": [
            "(60484, 8)\n"
          ],
          "name": "stdout"
        }
      ]
    },
    {
      "cell_type": "code",
      "metadata": {
        "id": "W4qm2eIMxrPI"
      },
      "source": [
        "# Отделим Y как старый Y\n",
        "Y_orig = data['y'].copy()\n",
        "Y_orig"
      ],
      "execution_count": null,
      "outputs": []
    },
    {
      "cell_type": "code",
      "metadata": {
        "id": "bh38MzW1_eps"
      },
      "source": [
        "# Отделим Y_new как новый Y\n",
        "Y = data['y_new'].copy()\n",
        "Y"
      ],
      "execution_count": null,
      "outputs": []
    },
    {
      "cell_type": "code",
      "metadata": {
        "colab": {
          "base_uri": "https://localhost:8080/"
        },
        "id": "EDbA_6e20xH9",
        "outputId": "d97b4972-21b6-4a2a-d3f0-2e7b68bb5a11"
      },
      "source": [
        "# Y в numpy массив\n",
        "Y = np.array(Y)\n",
        "Y = np.expand_dims(Y, axis=1)\n",
        "print(type(Y))\n",
        "print(Y.shape) "
      ],
      "execution_count": null,
      "outputs": [
        {
          "output_type": "stream",
          "text": [
            "<class 'numpy.ndarray'>\n",
            "(60484, 1)\n"
          ],
          "name": "stdout"
        }
      ]
    },
    {
      "cell_type": "code",
      "metadata": {
        "colab": {
          "base_uri": "https://localhost:8080/",
          "height": 204
        },
        "id": "k-hcSlq31B99",
        "outputId": "c1cab230-0503-4a23-f979-20d18a4b77c2"
      },
      "source": [
        "# Удалим Y из общей базы\n",
        "del data['y']\n",
        "del data['y_new']\n",
        "data.head()"
      ],
      "execution_count": null,
      "outputs": [
        {
          "output_type": "execute_result",
          "data": {
            "text/html": [
              "<div>\n",
              "<style scoped>\n",
              "    .dataframe tbody tr th:only-of-type {\n",
              "        vertical-align: middle;\n",
              "    }\n",
              "\n",
              "    .dataframe tbody tr th {\n",
              "        vertical-align: top;\n",
              "    }\n",
              "\n",
              "    .dataframe thead th {\n",
              "        text-align: right;\n",
              "    }\n",
              "</style>\n",
              "<table border=\"1\" class=\"dataframe\">\n",
              "  <thead>\n",
              "    <tr style=\"text-align: right;\">\n",
              "      <th></th>\n",
              "      <th>dx1</th>\n",
              "      <th>dx2</th>\n",
              "      <th>dx3</th>\n",
              "      <th>dt1</th>\n",
              "      <th>dt2</th>\n",
              "      <th>dt3</th>\n",
              "    </tr>\n",
              "  </thead>\n",
              "  <tbody>\n",
              "    <tr>\n",
              "      <th>2</th>\n",
              "      <td>-20.0</td>\n",
              "      <td>12.0</td>\n",
              "      <td>28.0</td>\n",
              "      <td>780.0</td>\n",
              "      <td>792.0</td>\n",
              "      <td>820.0</td>\n",
              "    </tr>\n",
              "    <tr>\n",
              "      <th>3</th>\n",
              "      <td>12.0</td>\n",
              "      <td>28.0</td>\n",
              "      <td>-16.0</td>\n",
              "      <td>792.0</td>\n",
              "      <td>820.0</td>\n",
              "      <td>804.0</td>\n",
              "    </tr>\n",
              "    <tr>\n",
              "      <th>4</th>\n",
              "      <td>28.0</td>\n",
              "      <td>-16.0</td>\n",
              "      <td>24.0</td>\n",
              "      <td>820.0</td>\n",
              "      <td>804.0</td>\n",
              "      <td>828.0</td>\n",
              "    </tr>\n",
              "    <tr>\n",
              "      <th>5</th>\n",
              "      <td>-16.0</td>\n",
              "      <td>24.0</td>\n",
              "      <td>88.0</td>\n",
              "      <td>804.0</td>\n",
              "      <td>828.0</td>\n",
              "      <td>916.0</td>\n",
              "    </tr>\n",
              "    <tr>\n",
              "      <th>6</th>\n",
              "      <td>24.0</td>\n",
              "      <td>88.0</td>\n",
              "      <td>44.0</td>\n",
              "      <td>828.0</td>\n",
              "      <td>916.0</td>\n",
              "      <td>960.0</td>\n",
              "    </tr>\n",
              "  </tbody>\n",
              "</table>\n",
              "</div>"
            ],
            "text/plain": [
              "    dx1   dx2   dx3    dt1    dt2    dt3\n",
              "2 -20.0  12.0  28.0  780.0  792.0  820.0\n",
              "3  12.0  28.0 -16.0  792.0  820.0  804.0\n",
              "4  28.0 -16.0  24.0  820.0  804.0  828.0\n",
              "5 -16.0  24.0  88.0  804.0  828.0  916.0\n",
              "6  24.0  88.0  44.0  828.0  916.0  960.0"
            ]
          },
          "metadata": {
            "tags": []
          },
          "execution_count": 154
        }
      ]
    },
    {
      "cell_type": "code",
      "metadata": {
        "colab": {
          "base_uri": "https://localhost:8080/"
        },
        "id": "psKtwhgTC5GH",
        "outputId": "61d24616-6e6b-4188-f271-347890a613f7"
      },
      "source": [
        "#Превращаем общую  базу в numpy массив\n",
        "data = np.array(data) \n",
        "print(type(data))\n",
        "print(data.shape)  "
      ],
      "execution_count": null,
      "outputs": [
        {
          "output_type": "stream",
          "text": [
            "<class 'numpy.ndarray'>\n",
            "(60484, 6)\n"
          ],
          "name": "stdout"
        }
      ]
    },
    {
      "cell_type": "code",
      "metadata": {
        "id": "MXiqiMe8DN1H"
      },
      "source": [
        "#Отображаем исходные данные от точки start и длиной step\n",
        "\n",
        "start = 0 \n",
        "step = data.shape[0] #Сколько точек отрисуем\n",
        "\n",
        "#Заполняем текстовые названия каналов данных\n",
        "chanelNames = list(base_data.columns) \n",
        "#print(chanelNames)\n",
        "\n",
        "#\n",
        "plt.figure(figsize=(16,4))\n",
        "for i in range(1):\n",
        "  #Отрисовываем от начальной точки, до начальной точки + размер шага отрисовки\n",
        "  plt.plot(data[start:start+step, i], \n",
        "          label=chanelNames[i])\n",
        "\n",
        "plt.ylabel('мс')\n",
        "plt.legend()\n",
        "plt.show()\n",
        "\n"
      ],
      "execution_count": null,
      "outputs": []
    },
    {
      "cell_type": "code",
      "metadata": {
        "colab": {
          "base_uri": "https://localhost:8080/"
        },
        "id": "ptQyQFKhEq50",
        "outputId": "3736402e-cc5e-4208-ff35-aa44adf341f5"
      },
      "source": [
        "#Подготовка данных для обучения\n",
        "\n",
        "#data = data[300000:]                   #если надо уменьшить данные\n",
        "print(data.shape)\n",
        "\n",
        "xLen = 8                              #количество предшествующих отсчетов для анализа \n",
        "valLen = 7000                          #размер проверочной выборки\n",
        "trainLen = data.shape[0]-valLen        #размер тренировочной выборки\n",
        "\n",
        "\n",
        "#Делим данные на тренировочную и тестовую выборки (пропустили xLen+2 отсчетов)\n",
        "xTrain, xTest = data[:trainLen], data[trainLen+xLen+2:]\n",
        "\n",
        "#Нормализуем данные\n",
        "xScaler = MinMaxScaler()      \n",
        "xScaler.fit(xTrain)\n",
        "xTrain = xScaler.transform(xTrain)\n",
        "xTest = xScaler.transform(xTest)\n",
        "\n",
        "\n",
        "#Делаем reshape\n",
        "yTrain,yTest = np.reshape(Y[:trainLen,0],(-1,1)), np.reshape(Y[trainLen+xLen+2:,0],(-1,1)) \n",
        "\n",
        "yScaler = MinMaxScaler()\n",
        "yScaler.fit(yTrain)\n",
        "yTrain = yScaler.transform(yTrain)\n",
        "yTest = yScaler.transform(yTest)\n",
        "\n",
        "print(xTrain.shape)\n",
        "print(yTrain.shape)\n",
        "print(xTest.shape)\n",
        "print(yTest.shape)"
      ],
      "execution_count": null,
      "outputs": [
        {
          "output_type": "stream",
          "text": [
            "(60484, 6)\n",
            "(53484, 6)\n",
            "(53484, 1)\n",
            "(6990, 6)\n",
            "(6990, 1)\n"
          ],
          "name": "stdout"
        }
      ]
    },
    {
      "cell_type": "markdown",
      "metadata": {
        "id": "A7ZfklwqM5Z3"
      },
      "source": [
        "**Для генетики по архитектуре ставлю batch 128 (иначе очень долго)**"
      ]
    },
    {
      "cell_type": "code",
      "metadata": {
        "id": "pgbbWkghGCX0"
      },
      "source": [
        "#Генератор для обучения\n",
        "trainDataGen = TimeseriesGenerator(xTrain, yTrain,\n",
        "                                   length=xLen, stride=1,        #для каждой точки на длине xLen\n",
        "                                   batch_size=128)              \n",
        "\n",
        "#Генератор для валидации при обучении\n",
        "testDataGen = TimeseriesGenerator(xTest, yTest, \n",
        "                                  length=xLen, stride=1, \n",
        "                                  batch_size=128)"
      ],
      "execution_count": null,
      "outputs": []
    },
    {
      "cell_type": "code",
      "metadata": {
        "id": "EsJKpEEwLG32"
      },
      "source": [
        "# Функции для визуализации результатов\n",
        "\n",
        "# Расчет прогноза  сети\n",
        "# Аргументы - сеть (currModel) и проверочная выборка\n",
        "def getPred(currModel, xVal, yVal, yScaler):\n",
        "# def getPred(currModel, xVal, yVal):\n",
        "  #возвращает исходны масштаб данных, до нормализации\n",
        "  predVal = yScaler.inverse_transform(currModel.predict(xVal))\n",
        "  # predVal = currModel.predict(xVal)\n",
        "  yValUnscaled = yScaler.inverse_transform(yVal)\n",
        "  # yValUnscaled = yVal\n",
        "  \n",
        "  return (predVal, yValUnscaled)\n",
        "\n",
        "\n",
        "# Функция визуализации\n",
        "# start - точка с которой начинаем отрисовку графика\n",
        "# step - длина графика, которую отрисовываем\n",
        "# channel - какой канал отрисовываем\n",
        "def showPredict(start, step, channel, predVal, yValUnscaled):\n",
        "  plt.figure(figsize=(18,10))\n",
        "  plt.plot(predVal[start:start+step, 0],\n",
        "           label='Прогноз')\n",
        "  plt.plot(yValUnscaled[start:start+step, channel], \n",
        "           label='Базовый ряд')\n",
        "  plt.xlabel('Время')\n",
        "  plt.ylabel('Значение Y')\n",
        "  plt.legend()\n",
        "  plt.show()\n",
        "  \n",
        "\n",
        "\n",
        "# Расчёт корреляции дух одномерных векторов\n",
        "def correlate(a, b):\n",
        "\n",
        "  ma = a.mean()       #среднее значение первого вектора\n",
        "  mb = b.mean()       #среднее значение второго вектора\n",
        "  mab = (a*b).mean()  #среднее значение произведения векторов\n",
        "  sa = a.std()        #среднеквадратичное отклонение первого вектора\n",
        "  sb = b.std()        #среднеквадратичное отклонение второго вектора\n",
        "  \n",
        "  #Рассчитываем корреляцию\n",
        "  val = 1\n",
        "  if ((sa>0) & (sb>0)):\n",
        "    val = (mab-ma*mb)/(sa*sb)\n",
        "  return val\n",
        "\n",
        "\n",
        "# График корреляциюи прогнозированного сигнала с правильным\n",
        "# channels - по каким каналам отображать корреляцию\n",
        "# corrSteps - на какое количество шагов смещать сигнал назад для рассчёта корреляции\n",
        "def showCorr(channels, corrSteps, predVal, yValUnscaled):\n",
        "  plt.figure(figsize=(18,10))\n",
        "  #цикл по всем каналам\n",
        "  for ch in channels:\n",
        "    corr = []      #пустой список для корреляций\n",
        "    yLen = yValUnscaled.shape[0] #размер проверочной выборки\n",
        "\n",
        "      # Постепенно увеличиваем шаг, насколько смещаем сигнал для проверки автокорреляции\n",
        "    for i in range(corrSteps):\n",
        "      # Получаем сигнал, смещённый на i шагов назад\n",
        "      # predVal[i:, ch]\n",
        "      # Сравниваем его с верными ответами, без смещения назад\n",
        "      # yValUnscaled[:yLen-i,ch]\n",
        "      # Рассчитываем их корреляцию и добавляем в лист\n",
        "      corr.append(correlate(yValUnscaled[:yLen-i,ch], predVal[i:, 0]))\n",
        "\n",
        "    own_corr = [] # Создаём пустой лист, в нём будут корреляции при смещении на i шагов обратно\n",
        "\n",
        "      # Постепенно увеличикаем шаг, насколько смещаем сигнал для проверки автокорреляции\n",
        "    for i in range(corrSteps):\n",
        "      # Получаем сигнал, смещённый на i шагов назад\n",
        "      # predVal[i:, ch]\n",
        "      # Сравниваем его с верными ответами, без смещения назад\n",
        "      # yValUnscaled[:yLen-i,ch]\n",
        "      # Рассчитываем их корреляцию и добавляем в лист\n",
        "      own_corr.append(correlate(yValUnscaled[:yLen-i,ch], yValUnscaled[i:, ch]))\n",
        "\n",
        "    # Отображаем график корреляций для данного шага\n",
        "    plt.plot(corr, label='Предсказание на ' + str(ch+1) + ' шаг')\n",
        "    plt.plot(own_corr, label='Эталон')\n",
        "\n",
        "  plt.xlabel('Время')\n",
        "  plt.ylabel('Значение')\n",
        "  plt.legend()\n",
        "  plt.show()"
      ],
      "execution_count": null,
      "outputs": []
    },
    {
      "cell_type": "code",
      "metadata": {
        "id": "6gmQcSBqLG35"
      },
      "source": [
        "#Создадим генератор проверочной выборки, из которой потом вытащим xVal, yVal для проверки\n",
        "DataGen = TimeseriesGenerator(xTest, yTest,\n",
        "                               length=xLen, stride=1,\n",
        "                               batch_size=len(xTest)) #размер batch будет равен длине нашей выборки\n",
        "xVal = []\n",
        "yVal = []\n",
        "for i in DataGen:\n",
        "  xVal.append(i[0])\n",
        "  yVal.append(i[1])\n",
        "\n",
        "xVal = np.array(xVal)\n",
        "yVal = np.array(yVal)"
      ],
      "execution_count": null,
      "outputs": []
    },
    {
      "cell_type": "code",
      "metadata": {
        "colab": {
          "base_uri": "https://localhost:8080/"
        },
        "id": "QIzv4l3qDhD2",
        "outputId": "8545f3b2-86bc-4cf2-9384-a5ddbe4e330a"
      },
      "source": [
        "print(xVal.shape)\n",
        "print(yVal.shape)"
      ],
      "execution_count": null,
      "outputs": [
        {
          "output_type": "stream",
          "text": [
            "(1, 6982, 8, 6)\n",
            "(1, 6982, 1)\n"
          ],
          "name": "stdout"
        }
      ]
    },
    {
      "cell_type": "markdown",
      "metadata": {
        "id": "x4lLPEQkzlRa"
      },
      "source": [
        "###Подбор архитектуры сети\n",
        "\n",
        "\n",
        "\n"
      ]
    },
    {
      "cell_type": "markdown",
      "metadata": {
        "id": "xUIKpG7kzqT0"
      },
      "source": [
        "**БЛОК 1**\n",
        "\n",
        "* 0 - делаем ли нормализацию\n",
        "\n",
        "* 1 - размер MaxPooling для всех слоев\n",
        "\n",
        "* 2 - размер первого свёрточного слоя\n",
        "\n",
        "* 3 - ядро первого свёрточного слоя\n",
        "\n",
        "* 4 - функция активации первого слоя\n",
        "\n",
        "\n",
        "**БЛОК 2**\n",
        "\n",
        "* 5 - делаем ли второй свёрточный слой\n",
        "\n",
        "* 6 - размер второго свёрточного слоя\n",
        "\n",
        "* 7 - ядро второго свёрточного слоя\n",
        "\n",
        "* 8 - делаем ли MaxPooling\n",
        "\n",
        "* 9 - функция активации второго слоя\n",
        "\n",
        "\n",
        "**БЛОК 3**\n",
        "\n",
        "* 10 - делаем ли третий свёрточный слой\n",
        "\n",
        "* 11 - размер третьего свёрточного слоя\n",
        "\n",
        "* 12 - ядро третьего свёрточного слоя\n",
        "\n",
        "* 13 - делаем ли MaxPooling\n",
        "\n",
        "* 14 - функция активации третьего слоя\n",
        "\n",
        "\n",
        "**БЛОК 4**\n",
        "\n",
        "* 15 - делаем ли четвертый свёрточный слой\n",
        "\n",
        "* 16 - размер четвертого свёрточного слоя\n",
        "\n",
        "* 17 - ядро четвертого свёрточного слоя\n",
        "\n",
        "* 18 - делаем ли MaxPooling\n",
        "\n",
        "* 19 - функция активации четвертого слоя\n",
        "\n",
        "\n",
        "**БЛОК 5**\n",
        "\n",
        "* 20 - делаем ли пятый свёрточный слой\n",
        "\n",
        "* 21 - размер пятого свёрточного слоя\n",
        "\n",
        "* 22 - ядро пятого свёрточного слоя\n",
        "\n",
        "* 23 - делаем ли MaxPooling\n",
        "\n",
        "* 24 - функция активации пятого слоя\n",
        "\n",
        "\n",
        "**БЛОК 6**\n",
        "\n",
        "* 25 - делаем ли нормализацию перед полносвязным слоем\n",
        "\n",
        "* 26 - делаем ли полносвязный слой\n",
        "\n",
        "* 27 - размер полносвязного слоя"
      ]
    },
    {
      "cell_type": "code",
      "metadata": {
        "id": "U87BxwKazwNj"
      },
      "source": [
        "#Создаём сеть (net - список параметров)\n",
        "def createConvNet(net):\n",
        "  \n",
        "  makeFirstNormalization = net[0] # Делаем ли нормализацию в начале\n",
        "  maxPoolKernel = net[1]          # Ядро пуллинга\n",
        "\n",
        "  firstConvSize = 2 ** net[2]     # Размер первого cвёрточного слоя\n",
        "  firstConvKernel = net[3]        # Ядро первого свёрточного слоя\n",
        "  activation1 = net[4]            # Функция активации первого слоя\n",
        "\n",
        "  makeConv2 = net[5]              # Делаем ли второй сверточный слой\n",
        "  secondConvSize = 2 ** net[6]    # Ядро второго свёрточного слоя\n",
        "  secondConvKernel = net[7]       # Размер второго свёрточного слоя\n",
        "  makePool2 = net[8]              # Делаем ли пуллинг?\n",
        "  activation2 = net[9]            # Функция активации второго слоя\n",
        "\n",
        "  makeConv3 = net[10]             # Делаем ли  сверточный слой\n",
        "  thirdConvSize = 2 ** net[11]    # Ядро третьего свёрточного слоя\n",
        "  thirdConvKernel = net[12]       # Размер третьего свёрточного слоя\n",
        "  makePool3 = net[13]             # Делаем ли пуллинг?\n",
        "  activation3 = net[14]           # Функция активации третьего слоя\n",
        "\n",
        "  makeConv4 = net[15]             # Делаем ли  сверточный слой\n",
        "  fourthConvSize = 2 ** net[16]   # Ядро четвертого свёрточного слоя\n",
        "  fourthConvKernel = net[17]      # Размер четвертого свёрточного слоя\n",
        "  makePool4 = net[18]             # Делаем ли пуллинг?\n",
        "  activation4 = net[19]           # Функция активации четвертого слоя\n",
        "\n",
        "  makeConv5 = net[20]             # Делаем ли  сверточный слой\n",
        "  fifthConvSize = 2 ** net[21]    # Ядро пятого свёрточного слоя\n",
        "  fifthConvKernel = net[22]       # Размер пятого свёрточного слоя\n",
        "  makePool5 = net[23]             # Делаем ли пуллинг?\n",
        "  activation5 = net[24]           # Функция активации пятого слоя\n",
        "  \n",
        "\n",
        "  makeDense = net[25]             # Делаем ли полносвязный\n",
        "  denseSize = 2 ** net[26]        # Размер полносвязного слоя\n",
        "  activation6 = net[27]           # Функция активации пятoго слоя\n",
        "\n",
        "  #makeDense = net[15]             # Делаем ли полносвязный\n",
        "  #denseSize = 2 ** net[16]        # Размер полносвязного слоя\n",
        "  #activation = net[17]           # Функция активации пятoго слоя\n",
        "\n",
        "\n",
        "  shape = (xLen, data.shape[1])   # Размер входных данных\n",
        "  inputs = Input(shape)           # Входной слой\n",
        "\n",
        "  # Список активационных функций\n",
        "  activation_list = ['linear','relu','tanh','softmax','sigmoid']\n",
        "\n",
        "  if (makeFirstNormalization):    # Если делаем нормализацию в начале\n",
        "    x = BatchNormalization()(inputs)\n",
        "    x = Conv1D(firstConvSize,firstConvKernel, padding ='same')(x)\n",
        "    x1 = Activation(activation_list[activation1])(x)\n",
        "\n",
        "  else:                           # Если не делаем нормализацию в начале\n",
        "    x = Conv1D(firstConvSize,firstConvKernel, padding ='same')(inputs)\n",
        "    x1 = Activation(activation_list[activation1])(x)\n",
        "\n",
        "  list_to_concat = [inputs]       # Этот список будем потом склеивать\n",
        "\n",
        "  for i in range(4):              # Проходимся по каждому блоку \n",
        "    if net[5+5*i]!=0:             # Добавление блока\n",
        "      x = Conv1D(net[6+5*i],net[7+5*i], padding ='same')(x1)\n",
        "      x = Activation(activation_list[net[5*i+4]])(x)\n",
        "      x = Reshape((-1,1))(x)\n",
        "\n",
        "      if net[8+5*i]!=0:           # Добавление пулинга\n",
        "        x = MaxPooling1D(maxPoolKernel)(x)\n",
        "        list_to_concat.append(x)  # Добавляем в список\n",
        "      #  print(x)\n",
        "      else:\n",
        "        list_to_concat.append(x)  # Иначе сразу добавляем в список\n",
        " \n",
        "  # Проходим по всем значениям списка list_to_concat и делаем flatten\n",
        "  for i in range(len(list_to_concat)):    \n",
        "    if list_to_concat[i].shape != (None,0,1):\n",
        "      list_to_concat[i] = Flatten()(list_to_concat[i]) \n",
        "    else:\n",
        "      break\n",
        "\n",
        "  # Соединяем значения списка в единое целое\n",
        "  if len(list_to_concat) != 1:\n",
        "     fin = concatenate(list_to_concat)\n",
        "  \n",
        "  # Иначе просто делаем flatten\n",
        "  else:\n",
        "    fin = x\n",
        "    fin = Flatten()(fin)\n",
        "\n",
        "  # Добавление полносвязного слоя\n",
        "  if makeDense!=0:\n",
        "    fin = Dense(denseSize)(fin)\n",
        "    fin = Activation(activation_list[activation6])(fin)\n",
        "\n",
        "  fin = Dense(1)(fin)         # \n",
        "\n",
        "  model = Model(inputs, fin)  # Создаем моель Sequential\n",
        "  return model                # Возвращаем моель\n",
        "\n",
        "'''\n",
        "  Функция вычисления результата работы сети\n",
        "'''\n",
        "def evaluateNet(net, ep, verb):\n",
        "  val = 0\n",
        "  model = createConvNet(net)  # Создаем модель createConvNet\n",
        "  # Компилируем модель\n",
        "  model.compile(optimizer=Adam(learning_rate=1e-4),   # исправлено learning_rate\n",
        "                  loss='mse')\n",
        "\n",
        "  history = model.fit_generator(trainDataGen,\n",
        "                    epochs=5, \n",
        "                    verbose=verb,\n",
        "                    validation_data=testDataGen)\n",
        "  # Прогнозируем данные текущей сетью\n",
        "  (predVal, yValUnscaled) = getPred(model, xVal[0], yVal[0], yScaler) #Прогнозируем данные\n",
        "  \n",
        "  # Возвращаем автокорреляцию \n",
        "  corr, own_corr = autoCorr([0], 5, predVal, yValUnscaled, showGraf = False, returnData = True)\n",
        "  val = MAE(corr, own_corr).numpy() * (history.history[\"val_loss\"])[-1] #Считаем MAE и прибавляем ошибку  \n",
        "  # val = MAE(corr, own_corr).numpy()\n",
        "\n",
        "  return val, model # Возвращаем точность\n",
        "\n",
        "'''\n",
        "  Функция создания списка случайных параметров\n",
        "'''\n",
        "def createRandomNet():\n",
        "  net = []\n",
        "  net.append(random.randint(0,1)) # Делаем или нет нормализацию\n",
        "  net.append(random.randint(2,4)) # Ядро maxPooling\n",
        "\n",
        "  net.append(random.randint(6,10)) # Первый свёрточный слой от 64 до 1024 нейронов\n",
        "  net.append(random.randint(3,7))  # Ядро первого свёрточного слоя от 3 до 7\n",
        "  net.append(random.randint(0,4))  # Функция активации\n",
        "  \n",
        "\n",
        "  net.append(random.randint(0,1))  # Делаем ли второй сверточный\n",
        "  net.append(random.randint(6,10)) # Второй свёрточный слой от 8 до 1024 нейронов\n",
        "  net.append(random.randint(3,7))  # Ядро второго свёрточного слоя от 3 до 7\n",
        "  net.append(random.randint(0,1))  # Делаем ли MaxPooling\n",
        "  net.append(random.randint(0,4))  # Функция активации\n",
        "\n",
        "  net.append(random.randint(0,1))  # Делаем ли третий сверточный\n",
        "  net.append(random.randint(6,10)) # Третий свёрточный слой от 8 до 1024 нейронов\n",
        "  net.append(random.randint(3,7))  # Ядро третьего свёрточного слоя от 3 до 7\n",
        "  net.append(random.randint(0,1))  # Делаем ли MaxPooling\n",
        "  net.append(random.randint(0,4))  # Функция активации\n",
        "\n",
        "  net.append(random.randint(0,1))  # Делаем ли четвертый сверточный\n",
        "  net.append(random.randint(6,10)) # Четвертый свёрточный слой от 8 до 1024 нейронов\n",
        "  net.append(random.randint(3,7))  # Ядро четвертого свёрточного слоя от 3 до 7\n",
        "  net.append(random.randint(0,1))  # Делаем ли MaxPooling\n",
        "  net.append(random.randint(0,4))  # Функция активации\n",
        "\n",
        "  net.append(random.randint(0,1))  # Делаем ли пятый сверточный\n",
        "  net.append(random.randint(6,10)) # Пятый свёрточный слой от 8 до 1024 нейронов\n",
        "  net.append(random.randint(3,7))  # Ядро пятого свёрточного слоя от 3 до 7\n",
        "  net.append(random.randint(0,1))  # Делаем ли MaxPooling\n",
        "  net.append(random.randint(0,4))  # Функция активации\n",
        "\n",
        "  net.append(random.randint(0,1))  # Делаем ли полносвязный слой\n",
        "  net.append(random.randint(6,11)) # Размер полносвязного слоя от 128 до 2048\n",
        "  net.append(random.randint(0,4))  # Функция активации\n",
        "  return net\n",
        "\n"
      ],
      "execution_count": null,
      "outputs": []
    },
    {
      "cell_type": "code",
      "metadata": {
        "id": "klsToe-Oz5t9"
      },
      "source": [
        "# Функция рисуем корреляцию прогнозированного сигнала с правильным\n",
        "# Смещая на различное количество шагов назад\n",
        "# Для проверки появления эффекта автокорреляции\n",
        "# channels - по каким каналам отображать корреляцию\n",
        "# corrSteps - на какое количество шагов смещать сигнал назад для рассчёта корреляции\n",
        "# showGraf - показываем график или нет\n",
        "# returnData - возвращаем массивы автокорреляции или нет\n",
        "def autoCorr(channels, corrSteps, predVal, yValUnscaled, showGraf = True, returnData = False):\n",
        "  # Проходим по всем каналам\n",
        "  for ch in channels:\n",
        "    corr = [] # Создаём пустой лист, в нём будут корреляции при смещении на i шагов обратно\n",
        "    yLen = yValUnscaled.shape[0] # Запоминаем размер проверочной выборки\n",
        "\n",
        "      # Постепенно увеличикаем шаг, насколько смещаем сигнал для проверки автокорреляции\n",
        "    for i in range(corrSteps):\n",
        "      # Получаем сигнал, смещённый на i шагов назад\n",
        "      # predVal[i:, ch]\n",
        "      # Сравниваем его с верными ответами, без смещения назад\n",
        "      # yValUnscaled[:yLen-i,ch]\n",
        "      # Рассчитываем их корреляцию и добавляем в лист\n",
        "      corr.append(correlate(yValUnscaled[:yLen-i,ch], predVal[i:, ch]))\n",
        "\n",
        "    own_corr = [] # Создаём пустой лист, в нём будут корреляции при смезении на i рагов обратно\n",
        "\n",
        "      # Постепенно увеличикаем шаг, насколько смещаем сигнал для проверки автокорреляции\n",
        "    for i in range(corrSteps):\n",
        "      # Получаем сигнал, смещённый на i шагов назад\n",
        "      # predVal[i:, ch]\n",
        "      # Сравниваем его с верными ответами, без смещения назад\n",
        "      # yValUnscaled[:yLen-i,ch]\n",
        "      # Рассчитываем их корреляцию и добавляем в лист\n",
        "      own_corr.append(correlate(yValUnscaled[:yLen-i,ch], yValUnscaled[i:, ch]))\n",
        "\n",
        "    # Отображаем график коррелций для данного шага\n",
        "    if showGraf: #Если нужно показать график\n",
        "      plt.plot(corr, label='предсказание на ' + str(ch+1) + ' шаг')\n",
        "      plt.plot(own_corr, label='Эталон')\n",
        "\n",
        "  if showGraf: #Если нужно показать график\n",
        "    plt.xlabel('Время')\n",
        "    plt.ylabel('Значение')\n",
        "    plt.legend()\n",
        "    plt.show()\n",
        "\n",
        "  if returnData: #Если нужно вернуть массивы автокорреляции\n",
        "    return corr, own_corr"
      ],
      "execution_count": null,
      "outputs": []
    },
    {
      "cell_type": "code",
      "metadata": {
        "id": "6-3_JnFtz9qJ"
      },
      "source": [
        "n = 20                    # Общее число ботов\n",
        "nsurv = 7                 # Количество выживших (столько лучших переходит в новую популяцию)\n",
        "nnew = n - nsurv          # Количество новых (столько новых ботов создается)\n",
        "l = 28                    # Размер бота \n",
        "epohs = 9                 # количество эпох генетики\n",
        "mut = 0.4                 # коэфициент мутаций\n",
        "\n",
        "popul = []                # Массив популяции\n",
        "val = []                  # Одномерный массив значений этих ботов\n",
        "\n",
        "#Создаём случайных ботов\n",
        "for i in range(n):\n",
        "  popul.append(createRandomNet())\n",
        "  \n",
        "for it in range(epohs):   # Пробегаем по всем эпохам\n",
        "  print('Началась эпоха', it)\n",
        "  val = []                # Обнуляем значения бота\n",
        "  curr_time = time.time()\n",
        "  for i in range(n):      # Пробегаем в цикле по всем ботам \n",
        "    bot = popul[i]        # Берем очередного бота\n",
        "\n",
        "    # Вычисляем точность текущего бота\n",
        "    f,model_sum = evaluateNet(bot, 3, 0) \n",
        "    val.append(f)         # Добавляем полученное значение в список val\n",
        "\n",
        "  # Сортируем val\n",
        "  sval = sorted(val, reverse=0) \n",
        "\n",
        "  # Выводим 5 лучших ботов\n",
        "  print(it, time.time() - curr_time,  \" \", sval[0:5],popul[:5]) \n",
        "  \n",
        "  newpopul = []                         # Создаем пустой список под новую популяцию\n",
        "  for i in range(nsurv):                # Пробегаем по всем выжившим ботам\n",
        "    index = val.index(sval[i])          # Получаем индекс очередного бота из списка лучших в списке val\n",
        "    newpopul.append(popul[index])       # Добавляем в новую популяцию бота из popul с индексом index\n",
        "    \n",
        "  for i in range(nnew):                 # Проходимся в цикле nnew-раз  \n",
        "    indexp1 = random.randint(0,nsurv-1) # Случайный индекс первого родителя в диапазоне от 0 до nsurv - 1\n",
        "    indexp2 = random.randint(0,nsurv-1) # Случайный индекс первого родителя в диапазоне от 0 до nsurv - 1\n",
        "    botp1 = newpopul[indexp1]           # Получаем первого бота-родителя по indexp1\n",
        "    botp2 = newpopul[indexp2]           # Получаем второго бота-родителя по indexp2    \n",
        "    newbot = []                         # Создаем пустой список под значения нового бота    \n",
        "    net4Mut = createRandomNet()         # Создаем случайную сеть для мутаций\n",
        "    for j in range(l):                  # Пробегаем по всей длине размерности (784)      \n",
        "      x = 0      \n",
        "      pindex = random.random()          # Получаем случайное число в диапазоне от 0 до 1\n",
        "\n",
        "      # Если pindex меньше 0.5, то берем значения от первого бота, иначе от второго\n",
        "      if pindex < 0.5:\n",
        "        x = botp1[j]\n",
        "      else:\n",
        "        x = botp2[j]\n",
        "      \n",
        "      # С вероятностью mut устанавливаем значение бота из net4Mut\n",
        "      if (random.random() < mut):\n",
        "        x = net4Mut[j]\n",
        "        \n",
        "      newbot.append(x)                  # Добавляем очередное значение в нового бота      \n",
        "    newpopul.append(newbot)             # Добавляем бота в новую популяцию      \n",
        "  popul = newpopul                      # Записываем в popul новую посчитанную популяцию"
      ],
      "execution_count": null,
      "outputs": []
    },
    {
      "cell_type": "markdown",
      "metadata": {
        "id": "KApxs9hWi5Wr"
      },
      "source": [
        "**Проверка результатов подбора**"
      ]
    },
    {
      "cell_type": "code",
      "metadata": {
        "colab": {
          "base_uri": "https://localhost:8080/"
        },
        "id": "H_ESsCIP0CGM",
        "outputId": "30fd3b5f-57af-49eb-b0a0-ed3c9c754db2"
      },
      "source": [
        "print(popul) #лучшие ботов по эпохам"
      ],
      "execution_count": null,
      "outputs": [
        {
          "output_type": "stream",
          "text": [
            "[[1, 3, 10, 4, 1, 1, 8, 7, 1, 3, 1, 7, 7, 1, 0, 1, 6, 5, 0, 1, 1, 8, 6, 0, 2, 1, 7, 1], [1, 3, 10, 4, 1, 1, 8, 7, 1, 3, 1, 7, 7, 1, 0, 1, 6, 5, 1, 3, 0, 9, 6, 1, 2, 1, 7, 2], [1, 3, 10, 3, 1, 0, 8, 7, 1, 3, 1, 7, 4, 1, 2, 1, 6, 5, 1, 3, 0, 9, 3, 1, 2, 1, 6, 2], [1, 2, 10, 4, 1, 0, 8, 3, 1, 0, 0, 9, 7, 1, 0, 1, 9, 5, 1, 3, 0, 6, 6, 1, 1, 1, 7, 0], [1, 3, 10, 4, 0, 1, 8, 7, 1, 2, 0, 7, 7, 1, 0, 1, 6, 5, 1, 1, 1, 9, 3, 1, 2, 1, 7, 1], [1, 3, 10, 6, 2, 1, 8, 5, 1, 0, 1, 7, 4, 1, 0, 1, 6, 5, 1, 3, 0, 9, 6, 0, 2, 1, 7, 2], [1, 2, 7, 4, 1, 0, 8, 4, 1, 2, 0, 7, 3, 1, 2, 1, 8, 5, 1, 4, 0, 6, 6, 1, 2, 1, 7, 2], [0, 3, 10, 6, 2, 1, 8, 7, 1, 3, 1, 7, 4, 1, 4, 0, 6, 5, 1, 3, 0, 9, 6, 0, 2, 1, 7, 1], [1, 2, 10, 4, 2, 1, 8, 7, 1, 2, 0, 7, 7, 1, 2, 1, 6, 5, 0, 3, 0, 9, 3, 1, 2, 1, 6, 1], [1, 2, 7, 6, 4, 1, 8, 6, 1, 0, 1, 10, 6, 1, 0, 1, 10, 5, 1, 3, 0, 7, 6, 0, 3, 1, 11, 2], [0, 3, 10, 4, 1, 0, 8, 3, 1, 4, 0, 8, 4, 1, 0, 0, 8, 5, 0, 3, 1, 6, 6, 1, 1, 1, 7, 4], [1, 3, 6, 7, 4, 1, 7, 3, 1, 0, 0, 7, 7, 1, 2, 1, 6, 5, 1, 3, 0, 10, 6, 1, 4, 1, 6, 4], [0, 2, 10, 4, 1, 0, 8, 3, 1, 3, 0, 9, 7, 1, 0, 1, 6, 5, 1, 3, 0, 6, 5, 1, 0, 0, 7, 0], [1, 3, 7, 6, 1, 1, 8, 7, 1, 3, 1, 7, 7, 0, 3, 1, 6, 7, 1, 3, 0, 9, 3, 1, 1, 1, 7, 2], [1, 4, 10, 4, 1, 0, 8, 3, 1, 3, 1, 6, 4, 1, 0, 0, 9, 5, 1, 3, 0, 9, 6, 0, 2, 0, 7, 4], [1, 2, 7, 4, 1, 0, 8, 4, 1, 2, 0, 6, 3, 1, 0, 1, 8, 5, 1, 2, 0, 6, 7, 1, 0, 1, 9, 2], [1, 2, 9, 5, 2, 1, 9, 6, 0, 0, 1, 9, 5, 0, 0, 1, 9, 5, 1, 1, 0, 6, 4, 0, 1, 1, 7, 0], [1, 3, 10, 4, 1, 1, 8, 7, 0, 3, 1, 10, 7, 1, 0, 1, 10, 5, 0, 1, 1, 6, 6, 0, 2, 0, 6, 4], [0, 4, 6, 6, 2, 0, 8, 4, 1, 0, 1, 7, 6, 1, 1, 1, 6, 5, 1, 4, 1, 10, 6, 0, 2, 1, 10, 2], [0, 3, 10, 3, 1, 0, 10, 4, 0, 0, 1, 7, 6, 0, 2, 1, 6, 3, 1, 3, 0, 9, 7, 0, 4, 1, 6, 4]]\n"
          ],
          "name": "stdout"
        }
      ]
    },
    {
      "cell_type": "code",
      "metadata": {
        "id": "x2HozqYd0LeZ"
      },
      "source": [
        "model = createConvNet(popul[0])"
      ],
      "execution_count": null,
      "outputs": []
    },
    {
      "cell_type": "code",
      "metadata": {
        "id": "HY0OFHRG86es"
      },
      "source": [
        "my_bot = [1, 2, 10, 6, 1, 1, 9, 7, 1, 0, 1, 9, 7, 1, 2, 1, 7, 7, 1, 2, 1, 10, 5, 1, 3, 1, 10, 1]\n",
        "model = createConvNet(my_bot)"
      ],
      "execution_count": null,
      "outputs": []
    },
    {
      "cell_type": "code",
      "metadata": {
        "id": "SuA5T8nu0OjS",
        "colab": {
          "base_uri": "https://localhost:8080/"
        },
        "outputId": "5035be9c-539b-4c14-b476-97b120ded587"
      },
      "source": [
        "model.summary()"
      ],
      "execution_count": null,
      "outputs": [
        {
          "output_type": "stream",
          "text": [
            "Model: \"model_364\"\n",
            "__________________________________________________________________________________________________\n",
            "Layer (type)                    Output Shape         Param #     Connected to                     \n",
            "==================================================================================================\n",
            "input_365 (InputLayer)          [(None, 8, 6)]       0                                            \n",
            "__________________________________________________________________________________________________\n",
            "batch_normalization_311 (BatchN (None, 8, 6)         24          input_365[0][0]                  \n",
            "__________________________________________________________________________________________________\n",
            "conv1d_1138 (Conv1D)            (None, 8, 1024)      25600       batch_normalization_311[0][0]    \n",
            "__________________________________________________________________________________________________\n",
            "activation_1360 (Activation)    (None, 8, 1024)      0           conv1d_1138[0][0]                \n",
            "__________________________________________________________________________________________________\n",
            "conv1d_1139 (Conv1D)            (None, 8, 8)         57352       activation_1360[0][0]            \n",
            "__________________________________________________________________________________________________\n",
            "conv1d_1140 (Conv1D)            (None, 8, 7)         50183       activation_1360[0][0]            \n",
            "__________________________________________________________________________________________________\n",
            "activation_1361 (Activation)    (None, 8, 8)         0           conv1d_1139[0][0]                \n",
            "__________________________________________________________________________________________________\n",
            "activation_1362 (Activation)    (None, 8, 7)         0           conv1d_1140[0][0]                \n",
            "__________________________________________________________________________________________________\n",
            "conv1d_1141 (Conv1D)            (None, 8, 6)         30726       activation_1360[0][0]            \n",
            "__________________________________________________________________________________________________\n",
            "conv1d_1142 (Conv1D)            (None, 8, 8)         49160       activation_1360[0][0]            \n",
            "__________________________________________________________________________________________________\n",
            "reshape_774 (Reshape)           (None, 64, 1)        0           activation_1361[0][0]            \n",
            "__________________________________________________________________________________________________\n",
            "reshape_775 (Reshape)           (None, 56, 1)        0           activation_1362[0][0]            \n",
            "__________________________________________________________________________________________________\n",
            "activation_1363 (Activation)    (None, 8, 6)         0           conv1d_1141[0][0]                \n",
            "__________________________________________________________________________________________________\n",
            "activation_1364 (Activation)    (None, 8, 8)         0           conv1d_1142[0][0]                \n",
            "__________________________________________________________________________________________________\n",
            "max_pooling1d_523 (MaxPooling1D (None, 21, 1)        0           reshape_774[0][0]                \n",
            "__________________________________________________________________________________________________\n",
            "max_pooling1d_524 (MaxPooling1D (None, 18, 1)        0           reshape_775[0][0]                \n",
            "__________________________________________________________________________________________________\n",
            "reshape_776 (Reshape)           (None, 48, 1)        0           activation_1363[0][0]            \n",
            "__________________________________________________________________________________________________\n",
            "reshape_777 (Reshape)           (None, 64, 1)        0           activation_1364[0][0]            \n",
            "__________________________________________________________________________________________________\n",
            "flatten_1154 (Flatten)          (None, 48)           0           input_365[0][0]                  \n",
            "__________________________________________________________________________________________________\n",
            "flatten_1155 (Flatten)          (None, 21)           0           max_pooling1d_523[0][0]          \n",
            "__________________________________________________________________________________________________\n",
            "flatten_1156 (Flatten)          (None, 18)           0           max_pooling1d_524[0][0]          \n",
            "__________________________________________________________________________________________________\n",
            "flatten_1157 (Flatten)          (None, 48)           0           reshape_776[0][0]                \n",
            "__________________________________________________________________________________________________\n",
            "flatten_1158 (Flatten)          (None, 64)           0           reshape_777[0][0]                \n",
            "__________________________________________________________________________________________________\n",
            "concatenate_348 (Concatenate)   (None, 199)          0           flatten_1154[0][0]               \n",
            "                                                                 flatten_1155[0][0]               \n",
            "                                                                 flatten_1156[0][0]               \n",
            "                                                                 flatten_1157[0][0]               \n",
            "                                                                 flatten_1158[0][0]               \n",
            "__________________________________________________________________________________________________\n",
            "dense_586 (Dense)               (None, 128)          25600       concatenate_348[0][0]            \n",
            "__________________________________________________________________________________________________\n",
            "activation_1365 (Activation)    (None, 128)          0           dense_586[0][0]                  \n",
            "__________________________________________________________________________________________________\n",
            "dense_587 (Dense)               (None, 1)            129         activation_1365[0][0]            \n",
            "==================================================================================================\n",
            "Total params: 238,774\n",
            "Trainable params: 238,762\n",
            "Non-trainable params: 12\n",
            "__________________________________________________________________________________________________\n"
          ],
          "name": "stdout"
        }
      ]
    },
    {
      "cell_type": "code",
      "metadata": {
        "id": "cbrWg7Q90Re9"
      },
      "source": [
        "plot_model(model)"
      ],
      "execution_count": null,
      "outputs": []
    },
    {
      "cell_type": "code",
      "metadata": {
        "id": "ZdOI3k2n0mHC"
      },
      "source": [
        "# Компилируем\n",
        "model.compile(optimizer=Adam(learning_rate=1e-4),\n",
        "                loss='mse')\n",
        "\n",
        "# model.compile(optimizer=SGD(learning_rate=1e-5),\n",
        "#                 loss='mse')"
      ],
      "execution_count": null,
      "outputs": []
    },
    {
      "cell_type": "markdown",
      "metadata": {
        "id": "Efqy0uC5RQtK"
      },
      "source": [
        "**Переопределим генераторы для обучения (уменьшаем batch_size)**"
      ]
    },
    {
      "cell_type": "code",
      "metadata": {
        "id": "-sdQiMn1Qrxd"
      },
      "source": [
        "#Генератор для обучения\n",
        "trainDataGen = TimeseriesGenerator(xTrain, yTrain,\n",
        "                                   length=xLen, stride=1,       #для каждой точки на длине xLen\n",
        "                                   batch_size=16)                #размер batch попробовать подобрать ??\n",
        "\n",
        "#Генератор для валидации при обучении\n",
        "testDataGen = TimeseriesGenerator(xTest, yTest, \n",
        "                                  length=xLen, stride=1, \n",
        "                                  batch_size=16)"
      ],
      "execution_count": null,
      "outputs": []
    },
    {
      "cell_type": "code",
      "metadata": {
        "id": "AcB5G513NDvS"
      },
      "source": [
        "from tensorflow.keras.callbacks import ModelCheckpoint         \n",
        "checkpoint=ModelCheckpoint(filepath=PATH + 'Checkpoint.hdf5', save_best_only=True, monitor='val_loss', verbose=1)  "
      ],
      "execution_count": null,
      "outputs": []
    },
    {
      "cell_type": "code",
      "metadata": {
        "id": "yj79j6pG0p1m"
      },
      "source": [
        "# Обучаем\n",
        "history = model.fit_generator(trainDataGen,\n",
        "                    epochs=100, \n",
        "                    validation_data=testDataGen,\n",
        "                    callbacks=[checkpoint])"
      ],
      "execution_count": null,
      "outputs": []
    },
    {
      "cell_type": "code",
      "metadata": {
        "id": "o_mgQjL6nbOM"
      },
      "source": [
        "# model = load_model(PATH+ 'Checkpoint.hdf5')"
      ],
      "execution_count": null,
      "outputs": []
    },
    {
      "cell_type": "code",
      "metadata": {
        "id": "ga058DoPFa8Z",
        "colab": {
          "base_uri": "https://localhost:8080/",
          "height": 428
        },
        "outputId": "d7d0f240-6ddf-4910-ef35-2954f3911103"
      },
      "source": [
        "#Выводим графики\n",
        "plt.figure(figsize=(14,7))\n",
        "plt.plot(history.history['loss'], \n",
        "         label='Средняя абсолютная ошибка на обучающем наборе')\n",
        "plt.plot(history.history['val_loss'], \n",
        "         label='Средняя абсолютная ошибка на проверочном наборе')\n",
        "plt.ylabel('Средняя ошибка')\n",
        "plt.legend()\n",
        "plt.show()"
      ],
      "execution_count": null,
      "outputs": [
        {
          "output_type": "display_data",
          "data": {
            "image/png": "[encoded data removed]",
            "text/plain": [
              "<Figure size 1008x504 with 1 Axes>"
            ]
          },
          "metadata": {
            "tags": [],
            "needs_background": "light"
          }
        }
      ]
    },
    {
      "cell_type": "code",
      "metadata": {
        "id": "YRfacWHG0sil"
      },
      "source": [
        "# Прогнозируем данные текущей сетью\n",
        "currModel = model \n",
        "(predVal, yValUnscaled) = getPred(currModel, xVal[0], yVal[0],yScaler) "
      ],
      "execution_count": null,
      "outputs": []
    },
    {
      "cell_type": "code",
      "metadata": {
        "id": "1-pI7kir0w1h",
        "colab": {
          "base_uri": "https://localhost:8080/",
          "height": 606
        },
        "outputId": "36b150f5-519b-4b07-93d7-b380263195dd"
      },
      "source": [
        "# Отображаем графики\n",
        "showPredict(0, 500, 0, predVal, yValUnscaled)"
      ],
      "execution_count": null,
      "outputs": [
        {
          "output_type": "display_data",
          "data": {
            "image/png": "[encoded data removed]",
            "text/plain": [
              "<Figure size 1296x720 with 1 Axes>"
            ]
          },
          "metadata": {
            "tags": [],
            "needs_background": "light"
          }
        }
      ]
    },
    {
      "cell_type": "code",
      "metadata": {
        "id": "N4igKfuhNsRN",
        "colab": {
          "base_uri": "https://localhost:8080/",
          "height": 279
        },
        "outputId": "80b9c260-8b5d-4b6a-9d60-ea3936fd212b"
      },
      "source": [
        "autoCorr([0], 10, predVal, yValUnscaled)"
      ],
      "execution_count": null,
      "outputs": [
        {
          "output_type": "display_data",
          "data": {
            "image/png": "[encoded data removed]",
            "text/plain": [
              "<Figure size 432x288 with 1 Axes>"
            ]
          },
          "metadata": {
            "tags": [],
            "needs_background": "light"
          }
        }
      ]
    },
    {
      "cell_type": "code",
      "metadata": {
        "id": "Lc2ziGQv1CSZ",
        "colab": {
          "base_uri": "https://localhost:8080/",
          "height": 279
        },
        "outputId": "e78024e8-fd44-4e36-8e9f-fe206f10493f"
      },
      "source": [
        "autoCorr([0], 25, predVal, yValUnscaled)"
      ],
      "execution_count": null,
      "outputs": [
        {
          "output_type": "display_data",
          "data": {
            "image/png": "[encoded data removed]",
            "text/plain": [
              "<Figure size 432x288 with 1 Axes>"
            ]
          },
          "metadata": {
            "tags": [],
            "needs_background": "light"
          }
        }
      ]
    },
    {
      "cell_type": "code",
      "metadata": {
        "id": "rvXJP5fY1IeX",
        "colab": {
          "base_uri": "https://localhost:8080/"
        },
        "outputId": "b6d61d56-41d4-4014-a5c7-bf18f1243778"
      },
      "source": [
        "# Сохраняем/загружаем модель\n",
        "model.save( PATH+ 'modelGA-TS-8.h5' )\n",
        "\n",
        "!ls {PATH} \n",
        "\n",
        "# model = load_model(PATH+ 'modelGA-TS-8.h5')"
      ],
      "execution_count": null,
      "outputs": [
        {
          "output_type": "stream",
          "text": [
            "'AK&VGG16'\t   sample_submission.csv   train.csv\n",
            " Checkpoint.hdf5   test.csv\t\t   true_values.npy\n",
            " modelGA-TS-8.h5  'Time series N->N+1'\n"
          ],
          "name": "stdout"
        }
      ]
    },
    {
      "cell_type": "markdown",
      "metadata": {
        "id": "nu9_3dB_6fiR"
      },
      "source": [
        "**Пересчитаем предикт по порогу**"
      ]
    },
    {
      "cell_type": "code",
      "metadata": {
        "id": "GTfUpgD5iJnR"
      },
      "source": [
        "predVal_2 = predVal.copy()\n",
        "predVal_2[predVal>0.5] = 1\n",
        "predVal_2[predVal<=0.5] = 0"
      ],
      "execution_count": null,
      "outputs": []
    },
    {
      "cell_type": "code",
      "metadata": {
        "id": "vODc8bWriKd4",
        "colab": {
          "base_uri": "https://localhost:8080/",
          "height": 606
        },
        "outputId": "baa69be5-883e-40a9-dabc-58b4096093d6"
      },
      "source": [
        "# Отображаем графики\n",
        "showPredict(1500, 500, 0, predVal_2, yValUnscaled)"
      ],
      "execution_count": null,
      "outputs": [
        {
          "output_type": "display_data",
          "data": {
            "image/png": "[encoded data removed]",
            "text/plain": [
              "<Figure size 1296x720 with 1 Axes>"
            ]
          },
          "metadata": {
            "tags": [],
            "needs_background": "light"
          }
        }
      ]
    },
    {
      "cell_type": "markdown",
      "metadata": {
        "id": "sU9n1TgkodHi"
      },
      "source": [
        "**Посчитаем метрики**"
      ]
    },
    {
      "cell_type": "code",
      "metadata": {
        "id": "MfaFIWx4oYn5"
      },
      "source": [
        "pred = predVal_2.astype(int)\n",
        "yVal2 = yValUnscaled.astype(int)"
      ],
      "execution_count": null,
      "outputs": []
    },
    {
      "cell_type": "code",
      "metadata": {
        "colab": {
          "base_uri": "https://localhost:8080/"
        },
        "id": "hNNO7eiswxg4",
        "outputId": "dcdbad92-cf10-4587-bf5e-23b0c2137012"
      },
      "source": [
        "# точность f1\n",
        "from sklearn.metrics import f1_score\n",
        "f1 = f1_score(predVal_2, yVal2, average='micro', zero_division='warn')\n",
        "f1"
      ],
      "execution_count": null,
      "outputs": [
        {
          "output_type": "execute_result",
          "data": {
            "text/plain": [
              "0.9057576625608709"
            ]
          },
          "metadata": {
            "tags": []
          },
          "execution_count": 207
        }
      ]
    },
    {
      "cell_type": "code",
      "metadata": {
        "colab": {
          "base_uri": "https://localhost:8080/"
        },
        "id": "s8v9lGWazmuc",
        "outputId": "354238d5-559e-4aa9-d524-bc390fab5739"
      },
      "source": [
        "# точность f1\n",
        "from sklearn.metrics import f1_score\n",
        "f1 = f1_score(yVal2, pred, average='binary', zero_division='warn')\n",
        "f1"
      ],
      "execution_count": null,
      "outputs": [
        {
          "output_type": "execute_result",
          "data": {
            "text/plain": [
              "0.674901185770751"
            ]
          },
          "metadata": {
            "tags": []
          },
          "execution_count": 208
        }
      ]
    },
    {
      "cell_type": "code",
      "metadata": {
        "id": "cF1n42o_oh3_",
        "colab": {
          "base_uri": "https://localhost:8080/"
        },
        "outputId": "adbe4024-54f6-4388-c1ae-c4f6d0bad696"
      },
      "source": [
        "# Посчитаем accuracy и другие метрики\n",
        "true_cov = 0\n",
        "false_cov = 0\n",
        "true_pur = 0\n",
        "false_pur = 0\n",
        "\n",
        "for i in range(pred.shape[0]):\n",
        "  # предсказанный класс (классы 0 и 1)\n",
        "  if pred[i][0]==0:\n",
        "    curr_class = 0\n",
        "  else:\n",
        "    curr_class = 1\n",
        "  # правильный класс\n",
        "  true_class = yVal2[i][0]\n",
        "  #\n",
        "  if curr_class == 0:    # предсказали 0\n",
        "    if true_class == 0:  \n",
        "      true_pur += 1      # правильно предсказали 0\n",
        "    else:\n",
        "      false_pur += 1     # неправильно предсказали 0\n",
        "\n",
        "  if curr_class == 1:    # предсказали 1 (ковид)\n",
        "    if true_class == 1:  \n",
        "      true_cov += 1      # правильно предсказали 1 (ковид)\n",
        "    else:\n",
        "      false_cov += 1     # неправильно предсказали 1 (ковид)\n",
        "\n",
        "\n",
        "# Accuracy\n",
        "accuracy = (true_pur + true_cov) / (true_pur+false_pur+true_cov+false_cov)\n",
        "# Precision \n",
        "prec_pur = true_pur / (true_pur + false_pur)\n",
        "prec_cov = true_cov / (true_cov + false_cov)\n",
        "# Recall\n",
        "recall_pur = true_pur / (true_pur + false_cov)\n",
        "recall_cov = true_cov / (true_cov + false_pur)\n",
        "#\n",
        "print('Всего предсказаний =', true_pur+false_pur+true_cov+false_cov)\n",
        "print('true pure', true_pur)\n",
        "print('false pure', false_pur)\n",
        "print('true covid', true_cov)\n",
        "print('false covid', false_cov)\n",
        "print()\n",
        "print('Accuracy =', round(accuracy, 2))\n",
        "print('Precision Covid =', round(prec_cov, 2))\n",
        "print('Precision Pure =', round(prec_pur, 2))\n",
        "print('Recall Covid =', round(recall_cov, 2))\n",
        "print('Recall Pure =', round(recall_pur, 2))"
      ],
      "execution_count": null,
      "outputs": [
        {
          "output_type": "stream",
          "text": [
            "Всего предсказаний = 6982\n",
            "true pure 5641\n",
            "false pure 522\n",
            "true covid 683\n",
            "false covid 136\n",
            "\n",
            "Accuracy = 0.91\n",
            "Precision Covid = 0.83\n",
            "Precision Pure = 0.92\n",
            "Recall Covid = 0.57\n",
            "Recall Pure = 0.98\n"
          ],
          "name": "stdout"
        }
      ]
    }
  ]
}